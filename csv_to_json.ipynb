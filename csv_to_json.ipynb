{
 "cells": [
  {
   "cell_type": "code",
   "execution_count": null,
   "id": "e936eb7f",
   "metadata": {},
   "outputs": [],
   "source": [
    "import json\n",
    "import uuid\n",
    "from datetime import datetime, timezone\n",
    "from pathlib import Path\n",
    "\n",
    "import pandas as pd"
   ]
  },
  {
   "cell_type": "markdown",
   "id": "ee407502",
   "metadata": {},
   "source": [
    "- Import the CSV, then sanitize the column names.\n",
    "- Adjust `csv_inpath` as appropriate.\n",
    "- Rename columns for clarity."
   ]
  },
  {
   "cell_type": "code",
   "execution_count": null,
   "id": "32c440ec",
   "metadata": {},
   "outputs": [],
   "source": [
    "# Load the CSV-formatted use cases from a file.\n",
    "csv_inpath = Path(\"data/input/autodesk-jira-tickets.csv\")\n",
    "df = pd.read_csv(csv_inpath)\n",
    "renames = {\n",
    "    \"Generative AI Tool \": \"generative_ai_tool\",  # This cust. data has an extra space.\n",
    "    \"ticket number\": \"ticket_number\",\n",
    "    \"jira ticket\": \"jira_ticket\",\n",
    "    \"Status\": \"status\",\n",
    "    \"Prompts\": \"prompts\",\n",
    "    \"Purpose of Use\": \"purpose_of_use\",\n",
    "    \"Response to Request\": \"response_to_request\",\n",
    "}\n",
    "df.rename(columns=renames, inplace=True)\n",
    "# df.head()  # Uncomment to check input. Be sure not to share sensitive data."
   ]
  },
  {
   "cell_type": "markdown",
   "id": "26e2fff0",
   "metadata": {},
   "source": [
    "Iterate down the rows of the CSV, transforming each one into a JSON object defined by [`use-case-schema.json`](./use-case-schema.json)."
   ]
  },
  {
   "cell_type": "code",
   "execution_count": null,
   "id": "284eb074",
   "metadata": {},
   "outputs": [],
   "source": [
    "status_mapping = {\"Approved\": 1, \"Pending\": 0, \"Rejected\": -1}\n",
    "use_cases = []\n",
    "now_iso = datetime.now(timezone.utc).isoformat()\n",
    "\n",
    "# Row by row, transform each CSV-formatted use case into a JSON-formatted dict.\n",
    "for _, row in df.iterrows():\n",
    "    use_case = {\n",
    "        \"id\": str(uuid.uuid4()),\n",
    "        \"description\": (\n",
    "            f\"Purpose of Use:\\n{row['purpose_of_use']}\\n\\n\"\n",
    "            f\"Response to Request:\\n{row['response_to_request']}\\n\\n\"\n",
    "            f\"Prompts:\\n{row['Prompts ']}\\n\\n\"\n",
    "            f\"Ticket Number: {row['ticket_number']}\\n\"\n",
    "            f\"JIRA Ticket: {row['jira_ticket']}\"\n",
    "        ),\n",
    "        \"name\": row[\"generative_ai_tool\"].strip(),\n",
    "        \"icon\": None,\n",
    "        \"ai_type\": \"\",\n",
    "        \"governance_status\": status_mapping.get(row[\"status\"].strip(), 0),\n",
    "        \"domains\": [],\n",
    "        \"industries\": [],\n",
    "        \"regions\": [],\n",
    "        \"risk_category_level\": None,\n",
    "        \"custom_fields\": [],\n",
    "        \"questionnaires\": [],\n",
    "        \"inserted_at\": now_iso,\n",
    "        \"updated_at\": now_iso,\n",
    "    }\n",
    "    use_cases.append(use_case)\n",
    "\n",
    "# Save the list of JSON-formatted (dict) use cases to a file.\n",
    "outfolder = csv_inpath.parents[1] / \"output\"\n",
    "outfolder.mkdir(parents=True, exist_ok=True)\n",
    "filename = csv_inpath.with_name(csv_inpath.stem + \"-bulk-upload.json\").name\n",
    "json_outpath = outfolder / filename\n",
    "with open(json_outpath, \"w\") as f:\n",
    "    json.dump(use_cases, f, indent=4)"
   ]
  }
 ],
 "metadata": {
  "kernelspec": {
   "display_name": "venv",
   "language": "python",
   "name": "python3"
  },
  "language_info": {
   "codemirror_mode": {
    "name": "ipython",
    "version": 3
   },
   "file_extension": ".py",
   "mimetype": "text/x-python",
   "name": "python",
   "nbconvert_exporter": "python",
   "pygments_lexer": "ipython3",
   "version": "3.13.2"
  }
 },
 "nbformat": 4,
 "nbformat_minor": 5
}
