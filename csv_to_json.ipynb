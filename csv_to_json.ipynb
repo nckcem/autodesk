{
 "cells": [
  {
   "cell_type": "code",
   "execution_count": 5,
   "id": "e936eb7f",
   "metadata": {},
   "outputs": [],
   "source": [
    "import json\n",
    "from pathlib import Path\n",
    "import logging\n",
    "from datetime import datetime\n",
    "\n",
    "import pandas as pd"
   ]
  },
  {
   "cell_type": "markdown",
   "id": "f15f23a9",
   "metadata": {},
   "source": [
    "## Configure Logging"
   ]
  },
  {
   "cell_type": "code",
   "execution_count": 6,
   "id": "d4e08dae",
   "metadata": {},
   "outputs": [],
   "source": [
    "# Create logs directory if it doesn't exist.\n",
    "log_dir = Path(\"logs\")\n",
    "log_dir.mkdir(exist_ok=True)\n",
    "\n",
    "# Create log file with dynamic date-based name.\n",
    "log_date = datetime.now().strftime(\"%Y%m%d\")\n",
    "filename_no_ext = Path().resolve().name\n",
    "log_file = log_dir / f\"{log_date}-{filename_no_ext}.log\"\n",
    "\n",
    "# Create named logger\n",
    "LOGGER = logging.getLogger(filename_no_ext)\n",
    "LOGGER.setLevel(logging.INFO)\n",
    "\n",
    "# File handler\n",
    "file_handler = logging.FileHandler(log_file)\n",
    "file_handler.setLevel(logging.INFO)\n",
    "file_handler.setFormatter(logging.Formatter(\"%(asctime)s [%(levelname)s] %(message)s\"))\n",
    "\n",
    "# Optional console handler\n",
    "console_handler = logging.StreamHandler()\n",
    "console_handler.setLevel(logging.INFO)\n",
    "console_handler.setFormatter(\n",
    "    logging.Formatter(\"%(asctime)s [%(levelname)s] %(message)s\")\n",
    ")\n",
    "\n",
    "# Add handlers to logger (avoid duplicates)\n",
    "if not LOGGER.hasHandlers():\n",
    "    LOGGER.addHandler(file_handler)\n",
    "    # LOGGER.addHandler(console_handler)  # Prevent sharing any sensitive data."
   ]
  },
  {
   "cell_type": "markdown",
   "id": "ee407502",
   "metadata": {},
   "source": [
    "## Load & Sanitize Data\n",
    "- Import the CSV, then sanitize the column names.\n",
    "- Adjust `csv_inpath` as appropriate.\n",
    "- Rename columns for clarity."
   ]
  },
  {
   "cell_type": "code",
   "execution_count": 7,
   "id": "32c440ec",
   "metadata": {},
   "outputs": [],
   "source": [
    "# Load the CSV-formatted use cases from a file.\n",
    "csv_inpath = Path(\"data/input/20250516-autodesk-jira-tickets-updated-sheet.csv\")\n",
    "df = pd.read_csv(\n",
    "    csv_inpath, skiprows=1, usecols=[0, 1, 3, 4, 5, 6, 7, 8]\n",
    ")  # Adding Status per customer request.\n",
    "renames = {\n",
    "    \"Use Case Title\": \"use_case_title\",\n",
    "    \"Product\": \"product\",\n",
    "    \"ticket number\": \"ticket_number\",\n",
    "    \"jira ticket\": \"jira_ticket\",\n",
    "    \"Prompts\": \"prompts\",\n",
    "    \"Purpose of Use\": \"purpose_of_use\",\n",
    "    \"Response to Request\": \"response_to_request\",\n",
    "    \"Status\": \"status\",\n",
    "}\n",
    "df.rename(columns=renames, inplace=True)\n",
    "# df.head()  # Uncomment to check input. Be sure not to share sensitive data."
   ]
  },
  {
   "cell_type": "markdown",
   "id": "26e2fff0",
   "metadata": {},
   "source": [
    "## Execution\n",
    "- Iterate down the rows of the CSV, transforming each one into a JSON object defined by [`use-case-schema.json`](./use-case-schema.json)."
   ]
  },
  {
   "cell_type": "code",
   "execution_count": 8,
   "id": "284eb074",
   "metadata": {},
   "outputs": [],
   "source": [
    "# status_mapping = {\"Approved\": 1, \"Pending\": 0, \"Rejected\": -1}\n",
    "use_cases = []\n",
    "# now_iso = datetime.now(timezone.utc).isoformat()\n",
    "\n",
    "# Row by row, transform each CSV-formatted use case into a JSON-formatted dict.\n",
    "for i, row in df.iterrows():\n",
    "    use_case = {\n",
    "        # \"id\": str(uuid.uuid4()),\n",
    "        \"name\": row[\"use_case_title\"].strip(),\n",
    "        \"description\": (\n",
    "            f\"Purpose of Use:\\n{row['purpose_of_use']}\\n\\n\"\n",
    "            f\"Response to Request:\\n{row['response_to_request']}\\n\\n\"\n",
    "            f\"Prompts:\\n{row['prompts']}\\n\\n\"\n",
    "            f\"Product:\\n{row['prompts']}\\n\\n\"\n",
    "            f\"Ticket Number: {row['ticket_number']}\\n\"\n",
    "            f\"JIRA Ticket: {row['jira_ticket']}\\n\\n\"\n",
    "            f\"Status: {row['status']}\\n\"\n",
    "        ),\n",
    "        # \"icon\": None,\n",
    "        # \"ai_type\": \"\",\n",
    "        # \"governance_status\": status_mapping.get(row[\"status\"].strip(), 0),\n",
    "        # \"domains\": [],\n",
    "        # \"industries\": [],\n",
    "        # \"regions\": [],\n",
    "        # \"risk_category_level\": None,\n",
    "        # \"custom_fields\": [],\n",
    "        # \"questionnaires\": [],\n",
    "        # \"inserted_at\": now_iso,\n",
    "        # \"updated_at\": now_iso,\n",
    "    }\n",
    "    desc_len = len(use_case[\"description\"])\n",
    "    row_field = f\"Row {i + 2}\"\n",
    "    len_field = f\"({desc_len})\"\n",
    "    if desc_len > 255:\n",
    "        LOGGER.warning(\n",
    "            \"Description field too long: \"\n",
    "            f\"(in Excel file) {row_field:<7s}|{len_field:>7s} | {use_case['name']}\"\n",
    "        )\n",
    "    name_len = len(use_case[\"name\"])\n",
    "    row_field = f\"Row {i + 2}\"\n",
    "    len_field = f\"({name_len})\"\n",
    "    if name_len > 255:\n",
    "        LOGGER.warning(\n",
    "            \"Name field too long: \"\n",
    "            f\"(in Excel file) {row_field:<7s}|{len_field:>7s} | {use_case['name']}\"\n",
    "        )\n",
    "    use_cases.append(use_case)\n",
    "\n",
    "# Save the list of JSON-formatted (dict) use cases to a file.\n",
    "outfolder = csv_inpath.parents[1] / \"output\"\n",
    "outfolder.mkdir(parents=True, exist_ok=True)\n",
    "filename = csv_inpath.with_name(csv_inpath.stem + \"-bulk-upload.json\").name\n",
    "json_outpath = outfolder / filename\n",
    "payload = {\"data\": {\"items\": use_cases}}\n",
    "with open(json_outpath, \"w\") as f:\n",
    "    json.dump(payload, f, indent=4)"
   ]
  }
 ],
 "metadata": {
  "kernelspec": {
   "display_name": "venv",
   "language": "python",
   "name": "python3"
  },
  "language_info": {
   "codemirror_mode": {
    "name": "ipython",
    "version": 3
   },
   "file_extension": ".py",
   "mimetype": "text/x-python",
   "name": "python",
   "nbconvert_exporter": "python",
   "pygments_lexer": "ipython3",
   "version": "3.13.2"
  }
 },
 "nbformat": 4,
 "nbformat_minor": 5
}
